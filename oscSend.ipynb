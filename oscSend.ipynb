{
 "cells": [
  {
   "cell_type": "markdown",
   "id": "33e7fd2a",
   "metadata": {},
   "source": [
    "### Initial Setup "
   ]
  },
  {
   "cell_type": "code",
   "execution_count": 13,
   "id": "89be5769",
   "metadata": {},
   "outputs": [],
   "source": [
    "from pythonosc import udp_client\n",
    "\n",
    "ip = '127.0.0.1'\n",
    "port = 49162\n",
    "client = udp_client.SimpleUDPClient(ip, port)"
   ]
  },
  {
   "cell_type": "markdown",
   "id": "6f54b396",
   "metadata": {},
   "source": [
    "### Internal Functions"
   ]
  },
  {
   "cell_type": "code",
   "execution_count": 14,
   "id": "5a085bd9",
   "metadata": {},
   "outputs": [],
   "source": [
    "def pos2Dec(array):\n",
    "    decVal = 0\n",
    "    for val in array:\n",
    "        decVal += 2**val\n",
    "\n",
    "    return decVal     "
   ]
  },
  {
   "cell_type": "code",
   "execution_count": 15,
   "id": "ec7d6485",
   "metadata": {},
   "outputs": [],
   "source": [
    "def dec2Bin(val):\n",
    "    array = 16*[0]\n",
    "    if (val > 0):\n",
    "        for i in range(len(array)):\n",
    "            array[i] = int(val % 2)\n",
    "            val = val / 2\n",
    "\n",
    "    return array        "
   ]
  },
  {
   "cell_type": "markdown",
   "id": "6d30d7ce",
   "metadata": {},
   "source": [
    "### Song Setup"
   ]
  },
  {
   "cell_type": "code",
   "execution_count": 16,
   "id": "ef022911",
   "metadata": {},
   "outputs": [],
   "source": [
    "cycles = 4\n",
    "measure = 4\n",
    "division = 16\n",
    "tempo = 95\n",
    "\n",
    "client.send_message(\"/master/setup\", [cycles, measure, division, tempo])"
   ]
  },
  {
   "cell_type": "markdown",
   "id": "fce542a7",
   "metadata": {},
   "source": [
    "### Drums"
   ]
  },
  {
   "cell_type": "code",
   "execution_count": 18,
   "id": "fdbe27ae",
   "metadata": {},
   "outputs": [],
   "source": [
    "# if we define the number of bars we can then auto fill the OSC message to pack out the information\n",
    "# Tweak the frequency of the hit hats\n",
    "hatsRatio = 1.135716\n",
    "\n",
    "posVal = pos2Dec([0,3,6,11,15])\n",
    "client.send_message(\"/drum/kick\", [0.3, 1.0, posVal, posVal, posVal, posVal])\n",
    "posVal1 = pos2Dec([4,12])\n",
    "posVal2 = pos2Dec([4,12,14])\n",
    "client.send_message(\"/drum/snare\", [0.3, 1.0, posVal1, posVal2, posVal1, posVal2])\n",
    "posVal = pos2Dec([0,4,8,12])\n",
    "client.send_message(\"/drum/openhats\", [0.1, hatsRatio, posVal, posVal, posVal, posVal])\n",
    "posVal = pos2Dec([1,5,9,13])\n",
    "client.send_message(\"/drum/closedhats\", [0.1, hatsRatio, posVal, posVal, posVal, posVal])\n",
    "posVal = pos2Dec([14])\n",
    "client.send_message(\"/drum/splash\", [0.1, hatsRatio, 0, posVal, 0, posVal])"
   ]
  },
  {
   "cell_type": "markdown",
   "id": "5e8843f4",
   "metadata": {},
   "source": [
    "### Vocals"
   ]
  },
  {
   "cell_type": "code",
   "execution_count": 17,
   "id": "6875b35f",
   "metadata": {},
   "outputs": [],
   "source": [
    "vocalGain = 0.5\n",
    "vocalRatio = 1.05\n",
    "\n",
    "posVal = pos2Dec([0])\n",
    "client.send_message(\"/vocals/chop1\", [vocalGain, vocalRatio, posVal, posVal, posVal, posVal])\n",
    "\n",
    "posVal = pos2Dec([4,12])\n",
    "client.send_message(\"/vocals/chop3\", [0.75*vocalGain, vocalRatio, posVal, posVal, posVal, posVal])\n",
    "\n",
    "posVal = pos2Dec([9])\n",
    "client.send_message(\"/vocals/chop4\", [vocalGain, vocalRatio, posVal, posVal, posVal, posVal])\n",
    "\n",
    "posVal = pos2Dec([2])\n",
    "client.send_message(\"/vocals/chop5\", [vocalGain, vocalRatio, posVal, posVal, posVal, posVal])\n",
    "\n",
    "posVal = pos2Dec([14])\n",
    "client.send_message(\"/vocals/chop7\", [0.75*vocalGain, vocalRatio, posVal, posVal, posVal, posVal])"
   ]
  },
  {
   "cell_type": "code",
   "execution_count": 4,
   "id": "5326d546",
   "metadata": {},
   "outputs": [],
   "source": [
    "client.send_message(\"/a\", [1, 1])\n",
    "client.send_message(\"/b\", [1, 1, 3])"
   ]
  },
  {
   "cell_type": "code",
   "execution_count": 37,
   "id": "367b69b8",
   "metadata": {},
   "outputs": [],
   "source": [
    "val = pos2Dec([0,3,6,11,15])"
   ]
  },
  {
   "cell_type": "code",
   "execution_count": 38,
   "id": "58fe73a6",
   "metadata": {},
   "outputs": [
    {
     "name": "stdout",
     "output_type": "stream",
     "text": [
      "[1, 0, 0, 1, 0, 0, 1, 0, 0, 0, 0, 1, 0, 0, 0, 1]\n"
     ]
    }
   ],
   "source": [
    "pos = dec2Bin(val)\n",
    "print(pos)"
   ]
  },
  {
   "cell_type": "code",
   "execution_count": 18,
   "id": "61c5a058",
   "metadata": {},
   "outputs": [
    {
     "data": {
      "text/plain": [
       "range(0, 16)"
      ]
     },
     "execution_count": 18,
     "metadata": {},
     "output_type": "execute_result"
    }
   ],
   "source": [
    "range(16)"
   ]
  }
 ],
 "metadata": {
  "kernelspec": {
   "display_name": ".venv",
   "language": "python",
   "name": "python3"
  },
  "language_info": {
   "codemirror_mode": {
    "name": "ipython",
    "version": 3
   },
   "file_extension": ".py",
   "mimetype": "text/x-python",
   "name": "python",
   "nbconvert_exporter": "python",
   "pygments_lexer": "ipython3",
   "version": "3.12.3"
  }
 },
 "nbformat": 4,
 "nbformat_minor": 5
}
