{
 "cells": [
  {
   "cell_type": "markdown",
   "id": "33e7fd2a",
   "metadata": {},
   "source": [
    "### Initial Setup "
   ]
  },
  {
   "cell_type": "code",
   "execution_count": 1,
   "id": "89be5769",
   "metadata": {},
   "outputs": [],
   "source": [
    "from pythonosc import udp_client\n",
    "\n",
    "ip = '127.0.0.1'\n",
    "port = 49162\n",
    "client = udp_client.SimpleUDPClient(ip, port)"
   ]
  },
  {
   "cell_type": "markdown",
   "id": "6f54b396",
   "metadata": {},
   "source": [
    "### Internal Functions"
   ]
  },
  {
   "cell_type": "code",
   "execution_count": 2,
   "id": "5a085bd9",
   "metadata": {},
   "outputs": [],
   "source": [
    "def pos2Dec(array):\n",
    "    decVal = 0\n",
    "    for val in array:\n",
    "        decVal += 2**val\n",
    "\n",
    "    return decVal     "
   ]
  },
  {
   "cell_type": "code",
   "execution_count": 3,
   "id": "ec7d6485",
   "metadata": {},
   "outputs": [],
   "source": [
    "def dec2Bin(val):\n",
    "    array = 16*[0]\n",
    "    if (val > 0):\n",
    "        for i in range(len(array)):\n",
    "            array[i] = int(val % 2)\n",
    "            val = val / 2\n",
    "\n",
    "    return array        "
   ]
  },
  {
   "cell_type": "markdown",
   "id": "6d30d7ce",
   "metadata": {},
   "source": [
    "### Song Setup"
   ]
  },
  {
   "cell_type": "code",
   "execution_count": 4,
   "id": "ef022911",
   "metadata": {},
   "outputs": [],
   "source": [
    "cycles = 4\n",
    "measure = 4\n",
    "division = 16\n",
    "tempo = 95\n",
    "\n",
    "client.send_message(\"/master/setup\", [cycles, measure, division, tempo])\n",
    "\n",
    "\n",
    "vocalGain = 0.5\n",
    "vocalRatio = 1.05\n",
    "\n",
    "# if we define the number of bars we can then auto fill the OSC message to pack out the information\n",
    "# Tweak the frequency of the hit hats\n",
    "hatsRatio = 1.135716"
   ]
  },
  {
   "cell_type": "markdown",
   "id": "fce542a7",
   "metadata": {},
   "source": [
    "# Drums"
   ]
  },
  {
   "cell_type": "markdown",
   "id": "0f537ba8",
   "metadata": {},
   "source": [
    "#### Cymbals"
   ]
  },
  {
   "cell_type": "code",
   "execution_count": 5,
   "id": "fdbe27ae",
   "metadata": {},
   "outputs": [],
   "source": [
    "posVal = pos2Dec([0,4,8,12])\n",
    "\n",
    "client.send_message(\"/drums/openhats\", [0.3, hatsRatio, posVal, posVal, posVal, posVal])\n",
    "posVal = pos2Dec([1,5,9,13])\n",
    "#posVal = pos2Dec([2,6,10,14])\n",
    "client.send_message(\"/drums/closedhats\", [0.3, hatsRatio, posVal, posVal, posVal, posVal])\n",
    "\n",
    "posVal = pos2Dec([14])\n",
    "client.send_message(\"/drums/splash\", [0.1, hatsRatio, 0, posVal, 0, posVal])\n",
    "\n",
    "# client.send_message(\"/drums/chop1\", [0.0])\n",
    "# client.send_message(\"/drums/chop1\", [0.0])\n",
    "# client.send_message(\"/drums/chop1\", [0.0])"
   ]
  },
  {
   "cell_type": "markdown",
   "id": "04694c39",
   "metadata": {},
   "source": [
    "### Kick"
   ]
  },
  {
   "cell_type": "code",
   "execution_count": 8,
   "id": "1e326b7d",
   "metadata": {},
   "outputs": [],
   "source": [
    "\n",
    "posVal = pos2Dec([0,3,6,11,15])\n",
    "client.send_message(\"/drums/kick\", [0.3, 1.0, posVal, posVal, posVal, posVal])\n",
    "\n",
    "#client.send_message(\"/drums/kick\", [0.0])"
   ]
  },
  {
   "cell_type": "markdown",
   "id": "f0775f64",
   "metadata": {},
   "source": [
    "### Snare"
   ]
  },
  {
   "cell_type": "code",
   "execution_count": 11,
   "id": "b33368cb",
   "metadata": {},
   "outputs": [],
   "source": [
    "posVal1 = pos2Dec([4,12])\n",
    "posVal2 = pos2Dec([4,12,14])\n",
    "client.send_message(\"/drums/snare\", [0.35, 1.0, posVal1, posVal2, posVal1, posVal2])\n",
    "\n",
    "#client.send_message(\"/drums/snare\", [0.0])"
   ]
  },
  {
   "cell_type": "code",
   "execution_count": 117,
   "id": "0238e4e5",
   "metadata": {},
   "outputs": [],
   "source": [
    "client.send_message(\"/drums/kick\", 0.0)\n",
    "client.send_message(\"/drums/snare\", 0.0)\n",
    "client.send_message(\"/drums/openhats\", 0.0)\n",
    "client.send_message(\"/drums/closedhats\", 0.0)\n",
    "client.send_message(\"/drums/splash\", 0.0)"
   ]
  },
  {
   "cell_type": "markdown",
   "id": "5e8843f4",
   "metadata": {},
   "source": [
    "# Vocals"
   ]
  },
  {
   "cell_type": "code",
   "execution_count": 17,
   "id": "6875b35f",
   "metadata": {},
   "outputs": [],
   "source": [
    "posVal1 = pos2Dec([0])\n",
    "posVal5 = pos2Dec([2])\n",
    "client.send_message(\"/vocals/chop1\", [vocalGain, vocalRatio, 0, 0, posVal1, 0])\n",
    "client.send_message(\"/vocals/chop5\", [vocalGain, vocalRatio, 0, 0, posVal5, 0])\n",
    "client.send_message(\"/vocals/chop1\", [vocalGain, vocalRatio, 0, 0, posVal1, posVal1])\n",
    "client.send_message(\"/vocals/chop5\", [vocalGain, vocalRatio, 0, 0, posVal5, posVal5])\n",
    "# client.send_message(\"/vocals/chop1\", [vocalGain, vocalRatio, 0, posVal1, posVal1, posVal1])\n",
    "# client.send_message(\"/vocals/chop5\", [vocalGain, vocalRatio, 0, posVal5, posVal5, posVal5])\n",
    "client.send_message(\"/vocals/chop1\", [vocalGain, vocalRatio, posVal1, 0, posVal1, 0])\n",
    "client.send_message(\"/vocals/chop5\", [vocalGain, vocalRatio, posVal5, 0, posVal5, 0])\n",
    "\n",
    "# client.send_message(\"/vocals/chop1\", [0.0])\n",
    "# client.send_message(\"/vocals/chop5\", [0.0])"
   ]
  },
  {
   "cell_type": "code",
   "execution_count": 6,
   "id": "0c309fe9",
   "metadata": {},
   "outputs": [],
   "source": [
    "posVal = pos2Dec([4,12])\n",
    "client.send_message(\"/vocals/chop3\", [0.5*vocalGain, vocalRatio, posVal, posVal, posVal, posVal])\n",
    "\n",
    "#client.send_message(\"/vocals/chop3\", [0.0])"
   ]
  },
  {
   "cell_type": "code",
   "execution_count": 16,
   "id": "f9626a19",
   "metadata": {},
   "outputs": [],
   "source": [
    "posVal4 = pos2Dec([9])\n",
    "posVal7 = pos2Dec([14])\n",
    "\n",
    "# posVal4 = pos2Dec([10])\n",
    "\n",
    "posVal7 = pos2Dec([14])\n",
    "\n",
    "client.send_message(\"/vocals/chop4\", [0.5*vocalGain, vocalRatio, posVal4, posVal4, 0, 0])\n",
    "client.send_message(\"/vocals/chop7\", [0.5*vocalGain, vocalRatio, posVal7, 0, 0, 0])\n",
    "# client.send_message(\"/vocals/chop4\", [0.5*vocalGain, vocalRatio, posVal4, posVal4, posVal4, posVal4])\n",
    "# client.send_message(\"/vocals/chop7\", [0.5*vocalGain, vocalRatio, posVal7, 0, posVal7, 0])\n",
    "client.send_message(\"/vocals/chop4\", [0.5*vocalGain, vocalRatio, posVal4, posVal4, posVal4, posVal4])\n",
    "client.send_message(\"/vocals/chop7\", [0.5*vocalGain, vocalRatio, posVal7, 0, posVal7, 0])\n",
    "\n",
    "\n",
    "# client.send_message(\"/vocals/chop4\", [0.0])\n",
    "# client.send_message(\"/vocals/chop7\", [0.0])"
   ]
  },
  {
   "cell_type": "code",
   "execution_count": 113,
   "id": "5326d546",
   "metadata": {},
   "outputs": [],
   "source": [
    "client.send_message(\"/vocals/chop1\", 0.0)\n",
    "client.send_message(\"/vocals/chop3\", 0.0)\n",
    "client.send_message(\"/vocals/chop4\", 0.0)\n",
    "client.send_message(\"/vocals/chop5\", 0.0)\n",
    "client.send_message(\"/vocals/chop7\", 0.0)"
   ]
  },
  {
   "cell_type": "code",
   "execution_count": 17,
   "id": "367b69b8",
   "metadata": {},
   "outputs": [],
   "source": [
    "posVal = pos2Dec([0])\n",
    "client.send_message(\"/vocals/chop1\", [vocalGain, vocalRatio, posVal, posVal, posVal, posVal])"
   ]
  },
  {
   "cell_type": "markdown",
   "id": "7cdd931f",
   "metadata": {},
   "source": [
    "# Synths"
   ]
  },
  {
   "cell_type": "code",
   "execution_count": 18,
   "id": "2c63e9f4",
   "metadata": {},
   "outputs": [],
   "source": [
    "# posVal1 = 65535 - pos2Dec([9,10,11])\n",
    "# posVal2 = posVal1\n",
    "# posVal3 = 65535 - pos2Dec([14,15])\n",
    "# posVal4 = 65535\n",
    "\n",
    "posVal1 = 65535#-pos2Dec([11,13,15])\n",
    "posVal2 = posVal1\n",
    "posVal3 = 65535# - pos2Dec([14,15])\n",
    "posVal4 = 65535# \n",
    "\n",
    "# posVal1 = pos2Dec([4,12])\n",
    "# posVal2 = pos2Dec([4,12,14])\n",
    "# client.send_message(\"/drums/snare\", [0.35, 1.0, posVal1, posVal2, posVal1, posVal2])\n",
    "\n",
    "# posVal1 = 65535 - pos2Dec([2,5,9,10,11,14,15]);\n",
    "# posVal2 = 65535 - pos2Dec([2,5,9,10,11]);\n",
    "# posVal3 = 65535 - pos2Dec([2,5,9,10,11,14,15]);\n",
    "# posVal4 = 65535 - pos2Dec([2,5,9,10,11]);\n",
    "\n",
    "sawGain = 0.5\n",
    "\n",
    "# Same notes all way through\n",
    "client.send_message(\"/synth/saw0\", [sawGain, 40, posVal1, 40, posVal2, 40, posVal3, 40, posVal4])\n",
    "client.send_message(\"/synth/saw1\", [sawGain, 52, posVal1, 52, posVal2, 52, posVal3, 52, posVal4])\n",
    "client.send_message(\"/synth/saw2\", [sawGain, 59, posVal1, 59, posVal2, 59, posVal3, 59, posVal4])\n",
    "client.send_message(\"/synth/saw3\", [sawGain, 64, posVal1, 64, posVal2, 64, posVal3, 64, posVal4])\n",
    "\n",
    "# Progression\n",
    "client.send_message(\"/synth/saw0\", [sawGain, 40, posVal1, 40, posVal2, 40, posVal3, 40, posVal4])\n",
    "client.send_message(\"/synth/saw1\", [sawGain, 55, posVal1, 54, posVal2, 52, posVal3, 52, posVal4])\n",
    "client.send_message(\"/synth/saw2\", [sawGain, 62, posVal1, 59, posVal2, 59, posVal3, 59, posVal4])\n",
    "client.send_message(\"/synth/saw3\", [sawGain, 67, posVal1, 66, posVal2, 64, posVal3, 64, posVal4])\n",
    "\n",
    "\n",
    "# posVal1 = 65535 - pos2Dec([2,5,9,10,11,14,15]);\n",
    "# posVal2 = 65535 - pos2Dec([2,5,9,10,11]);\n",
    "# posVal3 = 65535 - pos2Dec([2,5,9,10,11,14,15]);\n",
    "# posVal4 = 65535 - pos2Dec([2,5,9,10,11]);\n",
    "\n",
    "\n",
    "# client.send_message(\"/synth/saw0\", [sawGain, 44, posVal1, 41, posVal2, 43, posVal3, 36, posVal4])\n",
    "# client.send_message(\"/synth/saw1\", [sawGain, 56, posVal1, 55, posVal2, 58, posVal3, 56, posVal4])\n",
    "# client.send_message(\"/synth/saw2\", [sawGain, 60, posVal1, 60, posVal2, 62, posVal3, 60, posVal4])\n",
    "# client.send_message(\"/synth/saw3\", [sawGain, 63, posVal1, 63, posVal2, 65, posVal3, 64, posVal4])\n"
   ]
  },
  {
   "cell_type": "code",
   "execution_count": null,
   "id": "b92cff83",
   "metadata": {},
   "outputs": [],
   "source": [
    "client.send_message(\"/synth/saw0\", 0.0)\n",
    "client.send_message(\"/synth/saw1\", 0.0)\n",
    "client.send_message(\"/synth/saw2\", 0.0)\n",
    "client.send_message(\"/synth/saw3\", 0.0)\n"
   ]
  },
  {
   "cell_type": "markdown",
   "id": "2b1f4cc4",
   "metadata": {},
   "source": [
    "# Piano"
   ]
  },
  {
   "cell_type": "code",
   "execution_count": 19,
   "id": "a9e44d33",
   "metadata": {},
   "outputs": [],
   "source": [
    "# Piano\n",
    "posVal = pos2Dec([0, 8, 12, 14]);\n",
    "e4 = 0.749145455\n",
    "e5 = 1.4982727\n",
    "#client.send_message(\"/synth/piano\", [0.2, 164.81/110.0, posVal, posVal, posVal, posVal])\n",
    "client.send_message(\"/synth/piano\", [0.2, e5, posVal, posVal, posVal, posVal])\n",
    "\n"
   ]
  },
  {
   "cell_type": "code",
   "execution_count": null,
   "id": "6814cccc",
   "metadata": {},
   "outputs": [],
   "source": [
    "#client.send_message(\"/synth/piano\", [0])"
   ]
  }
 ],
 "metadata": {
  "kernelspec": {
   "display_name": ".venv",
   "language": "python",
   "name": "python3"
  },
  "language_info": {
   "codemirror_mode": {
    "name": "ipython",
    "version": 3
   },
   "file_extension": ".py",
   "mimetype": "text/x-python",
   "name": "python",
   "nbconvert_exporter": "python",
   "pygments_lexer": "ipython3",
   "version": "3.12.3"
  }
 },
 "nbformat": 4,
 "nbformat_minor": 5
}
